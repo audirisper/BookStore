{
  "nbformat": 4,
  "nbformat_minor": 0,
  "metadata": {
    "colab": {
      "provenance": [],
      "authorship_tag": "ABX9TyPTVfk7Z6GKljs1MVr6qrH5",
      "include_colab_link": true
    },
    "kernelspec": {
      "name": "python3",
      "display_name": "Python 3"
    },
    "language_info": {
      "name": "python"
    }
  },
  "cells": [
    {
      "cell_type": "markdown",
      "metadata": {
        "id": "view-in-github",
        "colab_type": "text"
      },
      "source": [
        "<a href=\"https://colab.research.google.com/github/audirisper/BookStore/blob/main/getting_started.ipynb\" target=\"_parent\"><img src=\"https://colab.research.google.com/assets/colab-badge.svg\" alt=\"Open In Colab\"/></a>"
      ]
    },
    {
      "cell_type": "code",
      "execution_count": 2,
      "metadata": {
        "colab": {
          "base_uri": "https://localhost:8080/"
        },
        "id": "MA9OCNNo1t93",
        "outputId": "da1db381-c4cd-4bb2-9232-af915f5bcc67"
      },
      "outputs": [
        {
          "output_type": "stream",
          "name": "stdout",
          "text": [
            "Mango\n",
            "Banana\n",
            "Pineapple\n",
            "Kiwi\n",
            "Avocado\n"
          ]
        }
      ],
      "source": [
        "fruits = ['Mango', 'Banana', 'Pineapple', 'Kiwi', 'Avocado']\n",
        "for fruit in fruits:\n",
        "    print(fruit)"
      ]
    },
    {
      "cell_type": "code",
      "source": [
        "person = {\n",
        "    'Alice' : 30,\n",
        "    'Risper' : 20,\n",
        "    'Samwel' : 27,\n",
        "    'Alicia' : 12,\n",
        "    'Patricia' : 17,\n",
        "}\n",
        "def average_age(person_dict):\n",
        "    total_age = sum(person_dict.values())\n",
        "    count = len(person_dict)\n",
        "    return total_age / count\n",
        "\n",
        "avg = average_age(person)\n",
        "print(\"Average age:\", avg)"
      ],
      "metadata": {
        "colab": {
          "base_uri": "https://localhost:8080/"
        },
        "id": "y2Mj8jay2Ul-",
        "outputId": "5e01a3bc-4ddb-40b9-9bd1-7adfcad6b875"
      },
      "execution_count": 4,
      "outputs": [
        {
          "output_type": "stream",
          "name": "stdout",
          "text": [
            "Average age: 21.2\n"
          ]
        }
      ]
    },
    {
      "cell_type": "code",
      "source": [],
      "metadata": {
        "id": "wYw4bEC84Cwi"
      },
      "execution_count": null,
      "outputs": []
    }
  ]
}